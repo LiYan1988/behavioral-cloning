{
 "cells": [
  {
   "cell_type": "code",
   "execution_count": 1,
   "metadata": {},
   "outputs": [
    {
     "name": "stderr",
     "output_type": "stream",
     "text": [
      "Using TensorFlow backend.\n",
      "/home/li/miniconda3/envs/carnd-term1/lib/python3.5/site-packages/h5py/__init__.py:36: FutureWarning: Conversion of the second argument of issubdtype from `float` to `np.floating` is deprecated. In future, it will be treated as `np.float64 == np.dtype(float).type`.\n",
      "  from ._conv import register_converters as _register_converters\n"
     ]
    }
   ],
   "source": [
    "import os\n",
    "import csv\n",
    "import keras\n",
    "import numpy as np\n",
    "import pandas as pd\n",
    "from scipy import misc\n",
    "import matplotlib.pyplot as plt\n",
    "import cv2\n",
    "from tqdm import tqdm\n",
    "import pickle\n",
    "\n",
    "%matplotlib inline"
   ]
  },
  {
   "cell_type": "code",
   "execution_count": 2,
   "metadata": {},
   "outputs": [
    {
     "name": "stdout",
     "output_type": "stream",
     "text": [
      "(21509, 7)\n",
      "['center' 'left' 'right' 'steering' 'throttle' 'brake' 'speed']\n",
      "center       object\n",
      "left         object\n",
      "right        object\n",
      "steering    float64\n",
      "throttle    float64\n",
      "brake       float64\n",
      "speed       float64\n",
      "dtype: object\n"
     ]
    }
   ],
   "source": [
    "images_left = []\n",
    "images_center = []\n",
    "images_right = []\n",
    "measurement = []\n",
    "\n",
    "log = pd.read_csv('data-all/driving_log.csv')\n",
    "log = log.applymap(lambda x: x.strip() if isinstance(x, str) else x)\n",
    "log_shape = log.shape\n",
    "log_columns = log.columns.values\n",
    "print(log_shape)\n",
    "print(log_columns)\n",
    "print(log.dtypes)"
   ]
  },
  {
   "cell_type": "code",
   "execution_count": 5,
   "metadata": {},
   "outputs": [],
   "source": [
    "def extract(img_path):\n",
    "    img = cv2.imread(img_path)\n",
    "    img = img[...,::-1]\n",
    "    return img"
   ]
  },
  {
   "cell_type": "code",
   "execution_count": 6,
   "metadata": {},
   "outputs": [
    {
     "name": "stderr",
     "output_type": "stream",
     "text": [
      "\n",
      "  0%|          | 0/21509 [00:00<?, ?images/s]\u001b[A\n",
      "  0%|          | 67/21509 [00:00<00:32, 662.64images/s]\u001b[A\n",
      "  1%|          | 135/21509 [00:00<00:32, 666.48images/s]\u001b[A\n",
      "  1%|          | 201/21509 [00:00<00:32, 664.36images/s]\u001b[A\n",
      "  1%|          | 267/21509 [00:00<00:32, 661.36images/s]\u001b[A\n",
      "  2%|▏         | 334/21509 [00:00<00:31, 661.91images/s]\u001b[A\n",
      "  2%|▏         | 402/21509 [00:00<00:31, 666.64images/s]\u001b[A\n",
      "  2%|▏         | 471/21509 [00:00<00:31, 673.22images/s]\u001b[A\n",
      "  2%|▏         | 534/21509 [00:00<00:31, 657.91images/s]\u001b[A\n",
      "  3%|▎         | 602/21509 [00:00<00:31, 662.39images/s]\u001b[A\n",
      "  3%|▎         | 669/21509 [00:01<00:31, 662.14images/s]\u001b[A\n",
      "  3%|▎         | 737/21509 [00:01<00:31, 665.77images/s]\u001b[A\n",
      "  4%|▎         | 803/21509 [00:01<00:31, 661.70images/s]\u001b[A\n",
      "  4%|▍         | 869/21509 [00:01<00:31, 647.10images/s]\u001b[A\n",
      "  4%|▍         | 935/21509 [00:01<00:31, 650.64images/s]\u001b[A\n",
      "  5%|▍         | 1000/21509 [00:01<00:31, 643.91images/s]\u001b[A\n",
      "  5%|▍         | 1065/21509 [00:01<00:32, 637.03images/s]\u001b[A\n",
      "  5%|▌         | 1129/21509 [00:01<00:32, 624.80images/s]\u001b[A\n",
      "  6%|▌         | 1192/21509 [00:01<00:32, 616.06images/s]\u001b[A\n",
      "  6%|▌         | 1256/21509 [00:01<00:32, 620.70images/s]\u001b[A\n",
      "  6%|▌         | 1320/21509 [00:02<00:32, 623.74images/s]\u001b[A\n",
      "  6%|▋         | 1383/21509 [00:02<00:32, 625.28images/s]\u001b[A\n",
      "  7%|▋         | 1446/21509 [00:02<00:33, 607.61images/s]\u001b[A\n",
      "100%|██████████| 21509/21509 [00:34<00:00, 628.98images/s]\n"
     ]
    }
   ],
   "source": [
    "lbar = tqdm(range(log.shape[0]), unit='images')\n",
    "#for row_idx in range(log_shape[0]):\n",
    "for row_idx in lbar:\n",
    "    measurement.append([log.loc[row_idx]['steering'], \n",
    "                   log.loc[row_idx]['throttle'], \n",
    "                   log.loc[row_idx]['brake'], \n",
    "                   log.loc[row_idx]['speed']])\n",
    "    #img_left = extract(os.path.join('data-all', log.loc[row_idx]['left']))\n",
    "    #images_left.append(img_left)\n",
    "    \n",
    "    #img_right = extract(os.path.join('data-all', log.loc[row_idx]['right']))\n",
    "    #images_right.append(img_right)\n",
    "    \n",
    "    img_center = extract(os.path.join('data-all', log.loc[row_idx]['center']))\n",
    "    images_center.append(img_center)\n",
    "#images_left = np.array(images_left)\n",
    "#images_right = np.array(images_right)\n",
    "images_center = np.array(images_center)\n",
    "measurement = np.array(measurement)"
   ]
  },
  {
   "cell_type": "code",
   "execution_count": 7,
   "metadata": {},
   "outputs": [],
   "source": [
    "with open('driving_data.pickle', 'wb') as pfile:\n",
    "    pickle.dump({'images_center': images_center, \n",
    "                 'measurement': measurement}, pfile, pickle.HIGHEST_PROTOCOL)\n",
    "del images_center, measurement"
   ]
  },
  {
   "cell_type": "markdown",
   "metadata": {},
   "source": [
    "with open('driving_data.pickle', 'wb') as pfile:\n",
    "    pickle.dump({'images_left': images_left, \n",
    "                 'images_right': images_right, \n",
    "                 'images_center': images_center, \n",
    "                 'measurement': measurement}, pfile, pickle.HIGHEST_PROTOCOL)\n",
    "del images_left, images_right, images_center, measurement"
   ]
  },
  {
   "cell_type": "code",
   "execution_count": 8,
   "metadata": {},
   "outputs": [],
   "source": [
    "with open('driving_data.pickle', 'rb') as pfile:\n",
    "    driving_data = pickle.load(pfile)\n",
    "images_center = driving_data['images_center']\n",
    "measurement = driving_data['measurement']"
   ]
  },
  {
   "cell_type": "code",
   "execution_count": 12,
   "metadata": {},
   "outputs": [
    {
     "name": "stdout",
     "output_type": "stream",
     "text": [
      "Train on 5068 samples, validate on 2172 samples\n",
      "Epoch 1/10\n",
      "5068/5068 [==============================] - 4s - loss: 9.5152 - val_loss: 0.2846\n",
      "Epoch 2/10\n",
      "5068/5068 [==============================] - 1s - loss: 0.1371 - val_loss: 0.6604\n",
      "Epoch 3/10\n",
      "5068/5068 [==============================] - 1s - loss: 4.9647 - val_loss: 1.0247\n",
      "Epoch 4/10\n",
      "5068/5068 [==============================] - 1s - loss: 0.8630 - val_loss: 2.0405\n",
      "Epoch 5/10\n",
      "5068/5068 [==============================] - 1s - loss: 0.6722 - val_loss: 1.1886\n",
      "Epoch 6/10\n",
      "5068/5068 [==============================] - 1s - loss: 0.3094 - val_loss: 0.1531\n",
      "Epoch 7/10\n",
      "5068/5068 [==============================] - 1s - loss: 0.4833 - val_loss: 0.3046\n",
      "Epoch 8/10\n",
      "5068/5068 [==============================] - 1s - loss: 11.9357 - val_loss: 0.9324\n",
      "Epoch 9/10\n",
      "5068/5068 [==============================] - 1s - loss: 1.3089 - val_loss: 2.7264\n",
      "Epoch 10/10\n",
      "5068/5068 [==============================] - 1s - loss: 0.8917 - val_loss: 4.2808\n"
     ]
    }
   ],
   "source": [
    "from keras.layers import Dense, Flatten\n",
    "from keras.models import Sequential\n",
    "from sklearn.model_selection import train_test_split\n",
    "from keras.layers.core import Lambda\n",
    "\n",
    "x_train, x_val, y_train, y_val = train_test_split(images_center, measurement[:, 0], test_size=0.1, shuffle=True)\n",
    "\n",
    "model = Sequential()\n",
    "model.add(Lambda(lambda x: x / 255 - 0.5, input_shape=(160, 320, 3)))\n",
    "model.add(Flatten())\n",
    "model.add(Dense(1))\n",
    "\n",
    "model.compile(loss='mse', optimizer='adam')\n",
    "model.fit(x_train, y_train, validation_split=0.2)\n",
    "model.save('model.h5')"
   ]
  },
  {
   "cell_type": "code",
   "execution_count": null,
   "metadata": {},
   "outputs": [],
   "source": [
    "measurement[:, 0].shape"
   ]
  },
  {
   "cell_type": "code",
   "execution_count": null,
   "metadata": {},
   "outputs": [],
   "source": [
    "import keras\n",
    "print(keras.__version__)"
   ]
  },
  {
   "cell_type": "code",
   "execution_count": null,
   "metadata": {},
   "outputs": [],
   "source": []
  }
 ],
 "metadata": {
  "kernelspec": {
   "display_name": "Python 3",
   "language": "python",
   "name": "python3"
  },
  "language_info": {
   "codemirror_mode": {
    "name": "ipython",
    "version": 3
   },
   "file_extension": ".py",
   "mimetype": "text/x-python",
   "name": "python",
   "nbconvert_exporter": "python",
   "pygments_lexer": "ipython3",
   "version": "3.5.4"
  }
 },
 "nbformat": 4,
 "nbformat_minor": 2
}
