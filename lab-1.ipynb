{
 "cells": [
  {
   "cell_type": "code",
   "execution_count": 1,
   "metadata": {},
   "outputs": [
    {
     "name": "stderr",
     "output_type": "stream",
     "text": [
      "Using TensorFlow backend.\n",
      "/home/li/miniconda3/envs/carnd-term1/lib/python3.5/site-packages/h5py/__init__.py:36: FutureWarning: Conversion of the second argument of issubdtype from `float` to `np.floating` is deprecated. In future, it will be treated as `np.float64 == np.dtype(float).type`.\n",
      "  from ._conv import register_converters as _register_converters\n"
     ]
    }
   ],
   "source": [
    "import os\n",
    "import csv\n",
    "import keras\n",
    "import numpy as np\n",
    "import pandas as pd\n",
    "from scipy import misc\n",
    "import matplotlib.pyplot as plt\n",
    "import cv2\n",
    "from tqdm import tqdm\n",
    "import pickle\n",
    "\n",
    "%matplotlib inline"
   ]
  },
  {
   "cell_type": "code",
   "execution_count": 2,
   "metadata": {},
   "outputs": [
    {
     "name": "stdout",
     "output_type": "stream",
     "text": [
      "(21509, 7)\n",
      "['center' 'left' 'right' 'steering' 'throttle' 'brake' 'speed']\n",
      "center       object\n",
      "left         object\n",
      "right        object\n",
      "steering    float64\n",
      "throttle    float64\n",
      "brake       float64\n",
      "speed       float64\n",
      "dtype: object\n"
     ]
    }
   ],
   "source": [
    "images_left = []\n",
    "images_center = []\n",
    "images_right = []\n",
    "measurement = []\n",
    "\n",
    "log = pd.read_csv('data-all/driving_log.csv')\n",
    "log = log.applymap(lambda x: x.strip() if isinstance(x, str) else x)\n",
    "log_shape = log.shape\n",
    "log_columns = log.columns.values\n",
    "print(log_shape)\n",
    "print(log_columns)\n",
    "print(log.dtypes)"
   ]
  },
  {
   "cell_type": "code",
   "execution_count": 3,
   "metadata": {},
   "outputs": [],
   "source": [
    "def extract(img_path):\n",
    "    img = cv2.imread(img_path)\n",
    "    img = img[...,::-1]\n",
    "    return img"
   ]
  },
  {
   "cell_type": "code",
   "execution_count": 4,
   "metadata": {},
   "outputs": [
    {
     "name": "stderr",
     "output_type": "stream",
     "text": [
      "100%|██████████| 21509/21509 [00:30<00:00, 705.11images/s]\n"
     ]
    }
   ],
   "source": [
    "lbar = tqdm(range(log.shape[0]), unit='images')\n",
    "#for row_idx in range(log_shape[0]):\n",
    "for row_idx in lbar:\n",
    "    measurement.append([log.loc[row_idx]['steering'], \n",
    "                   log.loc[row_idx]['throttle'], \n",
    "                   log.loc[row_idx]['brake'], \n",
    "                   log.loc[row_idx]['speed']])\n",
    "    img_left = extract(os.path.join('data-all', log.loc[row_idx]['left']))\n",
    "    images_left.append(img_left)\n",
    "    \n",
    "    img_right = extract(os.path.join('data-all', log.loc[row_idx]['right']))\n",
    "    images_right.append(img_right)\n",
    "    \n",
    "    img_center = extract(os.path.join('data-all', log.loc[row_idx]['center']))\n",
    "    images_center.append(img_center)\n",
    "images_left = np.array(images_left)\n",
    "images_right = np.array(images_right)\n",
    "images_center = np.array(images_center)"
   ]
  },
  {
   "cell_type": "code",
   "execution_count": 5,
   "metadata": {},
   "outputs": [],
   "source": [
    "driving_data = {'images_left': images_left, 'images_right': images_right, 'images_center': images_center, 'log': log}\n",
    "#driving_data = {'images_left': images_left, 'log': log}\n",
    "with open('driving_data.pickle', 'wb') as pfile:\n",
    "    pickle.dump(driving_data, pfile, pickle.HIGHEST_PROTOCOL)\n",
    "    del driving_data"
   ]
  },
  {
   "cell_type": "code",
   "execution_count": 7,
   "metadata": {},
   "outputs": [],
   "source": [
    "with open('driving_data.pickle', 'rb') as pfile:\n",
    "    driving_data = pickle.load(pfile)"
   ]
  },
  {
   "cell_type": "code",
   "execution_count": null,
   "metadata": {},
   "outputs": [],
   "source": []
  }
 ],
 "metadata": {
  "kernelspec": {
   "display_name": "Python 3",
   "language": "python",
   "name": "python3"
  },
  "language_info": {
   "codemirror_mode": {
    "name": "ipython",
    "version": 3
   },
   "file_extension": ".py",
   "mimetype": "text/x-python",
   "name": "python",
   "nbconvert_exporter": "python",
   "pygments_lexer": "ipython3",
   "version": "3.5.4"
  }
 },
 "nbformat": 4,
 "nbformat_minor": 2
}
