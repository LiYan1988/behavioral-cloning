{
 "cells": [
  {
   "cell_type": "code",
   "execution_count": 1,
   "metadata": {},
   "outputs": [
    {
     "name": "stderr",
     "output_type": "stream",
     "text": [
      "Using TensorFlow backend.\n",
      "/home/li/miniconda3/envs/carnd-term1/lib/python3.5/site-packages/h5py/__init__.py:36: FutureWarning: Conversion of the second argument of issubdtype from `float` to `np.floating` is deprecated. In future, it will be treated as `np.float64 == np.dtype(float).type`.\n",
      "  from ._conv import register_converters as _register_converters\n"
     ]
    }
   ],
   "source": [
    "import os\n",
    "import csv\n",
    "import keras\n",
    "import numpy as np\n",
    "import pandas as pd\n",
    "from scipy import misc\n",
    "import matplotlib.pyplot as plt\n",
    "import cv2\n",
    "from tqdm import tqdm\n",
    "import pickle\n",
    "\n",
    "%matplotlib inline"
   ]
  },
  {
   "cell_type": "code",
   "execution_count": 2,
   "metadata": {},
   "outputs": [
    {
     "name": "stdout",
     "output_type": "stream",
     "text": [
      "(21509, 7)\n",
      "['center' 'left' 'right' 'steering' 'throttle' 'brake' 'speed']\n",
      "center       object\n",
      "left         object\n",
      "right        object\n",
      "steering    float64\n",
      "throttle    float64\n",
      "brake       float64\n",
      "speed       float64\n",
      "dtype: object\n"
     ]
    }
   ],
   "source": [
    "images_left = []\n",
    "images_center = []\n",
    "images_right = []\n",
    "measurement = []\n",
    "\n",
    "log = pd.read_csv('data-all/driving_log.csv')\n",
    "log = log.applymap(lambda x: x.strip() if isinstance(x, str) else x)\n",
    "log_shape = log.shape\n",
    "log_columns = log.columns.values\n",
    "print(log_shape)\n",
    "print(log_columns)\n",
    "print(log.dtypes)"
   ]
  },
  {
   "cell_type": "code",
   "execution_count": 3,
   "metadata": {},
   "outputs": [],
   "source": [
    "def extract(img_path):\n",
    "    img = cv2.imread(img_path)\n",
    "    img = img[...,::-1]\n",
    "    return img"
   ]
  },
  {
   "cell_type": "code",
   "execution_count": 4,
   "metadata": {},
   "outputs": [
    {
     "name": "stderr",
     "output_type": "stream",
     "text": [
      "100%|██████████| 21509/21509 [01:11<00:00, 300.95images/s]\n"
     ]
    }
   ],
   "source": [
    "lbar = tqdm(range(log.shape[0]), unit='images')\n",
    "#for row_idx in range(log_shape[0]):\n",
    "for row_idx in lbar:\n",
    "    measurement.append([log.loc[row_idx]['steering'], \n",
    "                   log.loc[row_idx]['throttle'], \n",
    "                   log.loc[row_idx]['brake'], \n",
    "                   log.loc[row_idx]['speed']])\n",
    "    img_left = extract(os.path.join('data-all', log.loc[row_idx]['left']))\n",
    "    images_left.append(img_left)\n",
    "    \n",
    "    img_right = extract(os.path.join('data-all', log.loc[row_idx]['right']))\n",
    "    images_right.append(img_right)\n",
    "    \n",
    "    img_center = extract(os.path.join('data-all', log.loc[row_idx]['center']))\n",
    "    images_center.append(img_center)\n",
    "images_left = np.array(images_left)\n",
    "images_right = np.array(images_right)\n",
    "images_center = np.array(images_center)\n",
    "measurement = np.array(measurement)"
   ]
  },
  {
   "cell_type": "code",
   "execution_count": 5,
   "metadata": {},
   "outputs": [
    {
     "ename": "MemoryError",
     "evalue": "",
     "output_type": "error",
     "traceback": [
      "\u001b[0;31m---------------------------------------------------------------------------\u001b[0m",
      "\u001b[0;31mMemoryError\u001b[0m                               Traceback (most recent call last)",
      "\u001b[0;32m<ipython-input-5-b4274ffdf88c>\u001b[0m in \u001b[0;36m<module>\u001b[0;34m()\u001b[0m\n\u001b[1;32m      3\u001b[0m                  \u001b[0;34m'images_right'\u001b[0m\u001b[0;34m:\u001b[0m \u001b[0mimages_right\u001b[0m\u001b[0;34m,\u001b[0m\u001b[0;34m\u001b[0m\u001b[0m\n\u001b[1;32m      4\u001b[0m                  \u001b[0;34m'images_center'\u001b[0m\u001b[0;34m:\u001b[0m \u001b[0mimages_center\u001b[0m\u001b[0;34m,\u001b[0m\u001b[0;34m\u001b[0m\u001b[0m\n\u001b[0;32m----> 5\u001b[0;31m                  'measurement': measurement}, pfile, pickle.HIGHEST_PROTOCOL)\n\u001b[0m",
      "\u001b[0;31mMemoryError\u001b[0m: "
     ]
    }
   ],
   "source": [
    "with open('driving_data.pickle', 'wb') as pfile:\n",
    "    pickle.dump({'images_left': images_left, \n",
    "                 'images_right': images_right, \n",
    "                 'images_center': images_center, \n",
    "                 'measurement': measurement}, pfile, pickle.HIGHEST_PROTOCOL)\n",
    "del images_left, images_right, images_center, measurement"
   ]
  },
  {
   "cell_type": "code",
   "execution_count": null,
   "metadata": {},
   "outputs": [],
   "source": [
    "with open('driving_data.pickle', 'rb') as pfile:\n",
    "    driving_data = pickle.load(pfile)\n",
    "images_left = driving_data['images_left']\n",
    "measurement = driving_data['measurement']"
   ]
  },
  {
   "cell_type": "code",
   "execution_count": null,
   "metadata": {},
   "outputs": [],
   "source": [
    "from keras.layers import Dense, Flatten\n",
    "from keras.models import Sequential\n",
    "from sklearn.model_selection import train_test_split\n",
    "from keras.layers.core import Lambda\n",
    "\n",
    "x_train, x_val, y_train, y_val = train_test_split(images_left, measurement[:, 0], test_size=0.8, shuffle=True)\n",
    "\n",
    "model = Sequential(Lambda(lambda x: x / 255 - 0.5))\n",
    "model.add(Flatten(input_shape=(160, 320, 3)))\n",
    "model.add(Dense(1))\n",
    "\n",
    "model.compile(loss='mse', optimizer='adam')\n",
    "model.fit(x_train, y_train, validation_split=0.3)\n",
    "model.save('model.h5')"
   ]
  },
  {
   "cell_type": "code",
   "execution_count": null,
   "metadata": {},
   "outputs": [],
   "source": [
    "measurement[:, 0].shape"
   ]
  },
  {
   "cell_type": "code",
   "execution_count": null,
   "metadata": {},
   "outputs": [],
   "source": [
    "import keras\n",
    "print(keras.__version__)"
   ]
  },
  {
   "cell_type": "code",
   "execution_count": null,
   "metadata": {},
   "outputs": [],
   "source": []
  }
 ],
 "metadata": {
  "kernelspec": {
   "display_name": "Python 3",
   "language": "python",
   "name": "python3"
  },
  "language_info": {
   "codemirror_mode": {
    "name": "ipython",
    "version": 3
   },
   "file_extension": ".py",
   "mimetype": "text/x-python",
   "name": "python",
   "nbconvert_exporter": "python",
   "pygments_lexer": "ipython3",
   "version": "3.5.4"
  }
 },
 "nbformat": 4,
 "nbformat_minor": 2
}
