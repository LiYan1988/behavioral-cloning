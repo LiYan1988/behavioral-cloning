{
 "cells": [
  {
   "cell_type": "code",
   "execution_count": 1,
   "metadata": {},
   "outputs": [],
   "source": [
    "import csv\n",
    "import os\n",
    "from shutil import copyfile"
   ]
  },
  {
   "cell_type": "code",
   "execution_count": 2,
   "metadata": {},
   "outputs": [
    {
     "name": "stdout",
     "output_type": "stream",
     "text": [
      "IMG\n",
      "driving_log.csv\n",
      "IMG\n",
      "driving_log.csv\n",
      "IMG\n",
      "driving_log.csv\n"
     ]
    }
   ],
   "source": [
    "data_dir = ['data-1', 'data-2', 'data-3']\n",
    "for folder in data_dir:\n",
    "    for f in os.listdir(folder):\n",
    "        print(f)"
   ]
  },
  {
   "cell_type": "code",
   "execution_count": 3,
   "metadata": {},
   "outputs": [
    {
     "data": {
      "text/plain": [
       "'data-all/driving_log.csv'"
      ]
     },
     "execution_count": 3,
     "metadata": {},
     "output_type": "execute_result"
    }
   ],
   "source": [
    "copyfile('data/driving_log.csv', 'data-all/driving_log.csv')"
   ]
  },
  {
   "cell_type": "code",
   "execution_count": 4,
   "metadata": {},
   "outputs": [],
   "source": [
    "with open('data-all/driving_log.csv', 'a') as fd:\n",
    "    for folder in data_dir:\n",
    "        with open(os.path.join(folder, 'driving_log.csv'), 'r') as fs:\n",
    "            for line in fs:\n",
    "                line_new = line.split(',')\n",
    "                line_new[0] = os.path.join('IMG', os.path.split(line_new[0])[1])\n",
    "                line_new[1] = os.path.join('IMG', os.path.split(line_new[1])[1])\n",
    "                line_new[2] = os.path.join('IMG', os.path.split(line_new[2])[1])\n",
    "                line_new = ', '.join(line_new)\n",
    "                fd.write(line_new)"
   ]
  },
  {
   "cell_type": "code",
   "execution_count": 5,
   "metadata": {},
   "outputs": [],
   "source": [
    "if not os.path.exists('data-all/IMG'):\n",
    "    os.mkdir('data-all/IMG')\n",
    "for folder in ['data', 'data-1', 'data-2', 'data-3']:\n",
    "    for img in os.listdir(os.path.join(folder, 'IMG')):\n",
    "        copyfile(os.path.join(folder, 'IMG', img), os.path.join('data-all', 'IMG', img))\n",
    "        #copyfile(img, 'data-all/IMG')"
   ]
  },
  {
   "cell_type": "code",
   "execution_count": 25,
   "metadata": {},
   "outputs": [
    {
     "data": {
      "text/plain": [
       "'/home/li/CarND/CarND-Behavioral-Cloning-P3/data-3/IMG/center_2018_03_06_21_29_54_959.jpg, /home/li/CarND/CarND-Behavioral-Cloning-P3/data-3/IMG/left_2018_03_06_21_29_54_959.jpg, /home/li/CarND/CarND-Behavioral-Cloning-P3/data-3/IMG/right_2018_03_06_21_29_54_959.jpg, 0, 0, 0, 8.615426E-05\\n'"
      ]
     },
     "execution_count": 25,
     "metadata": {},
     "output_type": "execute_result"
    }
   ],
   "source": [
    "line"
   ]
  },
  {
   "cell_type": "code",
   "execution_count": 26,
   "metadata": {},
   "outputs": [
    {
     "data": {
      "text/plain": [
       "['/home/li/CarND/CarND-Behavioral-Cloning-P3/data-3/IMG/center_2018_03_06_21_29_54_959.jpg',\n",
       " ' /home/li/CarND/CarND-Behavioral-Cloning-P3/data-3/IMG/left_2018_03_06_21_29_54_959.jpg',\n",
       " ' /home/li/CarND/CarND-Behavioral-Cloning-P3/data-3/IMG/right_2018_03_06_21_29_54_959.jpg',\n",
       " ' 0',\n",
       " ' 0',\n",
       " ' 0',\n",
       " ' 8.615426E-05\\n']"
      ]
     },
     "execution_count": 26,
     "metadata": {},
     "output_type": "execute_result"
    }
   ],
   "source": [
    "line.split(',')"
   ]
  },
  {
   "cell_type": "code",
   "execution_count": 28,
   "metadata": {},
   "outputs": [
    {
     "data": {
      "text/plain": [
       "'center_2018_03_06_21_29_54_959'"
      ]
     },
     "execution_count": 28,
     "metadata": {},
     "output_type": "execute_result"
    }
   ],
   "source": [
    "os.path.split(line.split('.')[0])[1]"
   ]
  },
  {
   "cell_type": "code",
   "execution_count": 6,
   "metadata": {},
   "outputs": [
    {
     "name": "stderr",
     "output_type": "stream",
     "text": [
      "/home/li/miniconda3/envs/carnd-term1/lib/python3.5/site-packages/h5py/__init__.py:36: FutureWarning: Conversion of the second argument of issubdtype from `float` to `np.floating` is deprecated. In future, it will be treated as `np.float64 == np.dtype(float).type`.\n",
      "  from ._conv import register_converters as _register_converters\n"
     ]
    }
   ],
   "source": [
    "import tensorflow as tf"
   ]
  },
  {
   "cell_type": "code",
   "execution_count": null,
   "metadata": {},
   "outputs": [],
   "source": []
  }
 ],
 "metadata": {
  "kernelspec": {
   "display_name": "Python 3",
   "language": "python",
   "name": "python3"
  },
  "language_info": {
   "codemirror_mode": {
    "name": "ipython",
    "version": 3
   },
   "file_extension": ".py",
   "mimetype": "text/x-python",
   "name": "python",
   "nbconvert_exporter": "python",
   "pygments_lexer": "ipython3",
   "version": "3.5.4"
  }
 },
 "nbformat": 4,
 "nbformat_minor": 2
}
